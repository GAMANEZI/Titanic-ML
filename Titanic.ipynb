{
  "cells": [
    {
      "cell_type": "markdown",
      "metadata": {
        "id": "wpFvVQEx7u8q"
      },
      "source": [
        "# 0. Import"
      ]
    },
    {
      "cell_type": "code",
      "execution_count": 1,
      "metadata": {
        "id": "xJW5aB-pSMPM"
      },
      "outputs": [],
      "source": [
        "# Importing necessary libraries\n",
        "import numpy as np\n",
        "import pandas as pd\n",
        "\n",
        "from sklearn.preprocessing import LabelEncoder\n",
        "from sklearn.model_selection import train_test_split, GridSearchCV, cross_val_score\n",
        "from sklearn.metrics import accuracy_score\n",
        "\n",
        "from sklearn.svm import SVC\n",
        "from sklearn.neighbors import KNeighborsClassifier\n",
        "from sklearn.naive_bayes import MultinomialNB\n",
        "from sklearn.linear_model import LogisticRegression\n",
        "from sklearn.tree import DecisionTreeClassifier\n",
        "from sklearn.ensemble import RandomForestClassifier\n",
        "from sklearn.ensemble import GradientBoostingClassifier\n",
        "from sklearn.ensemble import BaggingClassifier\n",
        "from sklearn.ensemble import AdaBoostClassifier"
      ]
    },
    {
      "cell_type": "markdown",
      "source": [
        "# 1. Loading Data"
      ],
      "metadata": {
        "id": "H-NLQDmMokVv"
      }
    },
    {
      "cell_type": "code",
      "execution_count": 2,
      "metadata": {
        "id": "mh7Zd1PnSori"
      },
      "outputs": [],
      "source": [
        "# Loading training and test data\n",
        "data = pd.read_csv('train.csv')\n",
        "test = pd.read_csv('test.csv')\n",
        "test_ids = test['PassengerId']"
      ]
    },
    {
      "cell_type": "markdown",
      "metadata": {
        "id": "2niyju_g7fSX"
      },
      "source": [
        "# 2. Data Preprocessing\n"
      ]
    },
    {
      "cell_type": "markdown",
      "source": [
        "## 2.1 Data Cleaning\n"
      ],
      "metadata": {
        "id": "pDszeoRipZsN"
      }
    },
    {
      "cell_type": "code",
      "execution_count": 3,
      "metadata": {
        "id": "dZs4du3-TDOO"
      },
      "outputs": [],
      "source": [
        "# Function to clean the data by dropping unnecessary columns and filling missing values\n",
        "def clean(data):\n",
        "  data = data.drop(['PassengerId', 'Name', 'Ticket', 'Cabin'], axis = 1)\n",
        "\n",
        "  data['Embarked'].fillna('U', inplace = True)\n",
        "\n",
        "  columns1 = ['SibSp', 'Parch', 'Fare', 'Age']\n",
        "  for i in columns1:\n",
        "    data[i].fillna(data[i].median(), inplace = True)\n",
        "\n",
        "  return data\n",
        "\n",
        "data = clean(data)\n",
        "test = clean(test)"
      ]
    },
    {
      "cell_type": "markdown",
      "source": [
        "## 2.2 Data Encoding"
      ],
      "metadata": {
        "id": "UETgW49DpiRh"
      }
    },
    {
      "cell_type": "code",
      "execution_count": 4,
      "metadata": {
        "id": "KxdgwzpoZmgx"
      },
      "outputs": [],
      "source": [
        "# Encoding categorical features\n",
        "le = LabelEncoder()\n",
        "\n",
        "columns2 = ['Sex', 'Embarked']\n",
        "for i in columns2:\n",
        "  data[i] = le.fit_transform(data[i])\n",
        "  test[i] = le.transform(test[i])"
      ]
    },
    {
      "cell_type": "markdown",
      "metadata": {
        "id": "usIu__T574rM"
      },
      "source": [
        "# 3. Model Building"
      ]
    },
    {
      "cell_type": "markdown",
      "metadata": {
        "id": "W69HLPUV8kyn"
      },
      "source": [
        "## 3.1 Training models with default paramets"
      ]
    },
    {
      "cell_type": "code",
      "execution_count": 5,
      "metadata": {
        "id": "9q3e2aA5cbeT"
      },
      "outputs": [],
      "source": [
        "# Splitting the data into training and testing sets\n",
        "X = data.drop('Survived', axis = 1)\n",
        "y = data['Survived']"
      ]
    },
    {
      "cell_type": "code",
      "execution_count": 6,
      "metadata": {
        "id": "exvhl93Wjf6F"
      },
      "outputs": [],
      "source": [
        "# Defining models\n",
        "models = {\n",
        "    'SVC': SVC(random_state = 37),\n",
        "    'KNC': KNeighborsClassifier(),\n",
        "    'MNB': MultinomialNB(),\n",
        "    'LogR': LogisticRegression(random_state = 37, max_iter = 1000),\n",
        "    'DTC': DecisionTreeClassifier(random_state = 37),\n",
        "    'RFC': RandomForestClassifier(random_state = 37),\n",
        "    'GBC': GradientBoostingClassifier(random_state = 37),\n",
        "    'BC': BaggingClassifier(random_state = 37),\n",
        "    'AB': AdaBoostClassifier(random_state = 37)\n",
        "    }"
      ]
    },
    {
      "cell_type": "code",
      "execution_count": 7,
      "metadata": {
        "colab": {
          "base_uri": "https://localhost:8080/",
          "height": 331
        },
        "id": "Xt-6s3F8_1Er",
        "outputId": "ba55cedf-30ff-400d-c165-f2c25b329e1e"
      },
      "outputs": [
        {
          "output_type": "execute_result",
          "data": {
            "text/plain": [
              "  Model     Score\n",
              "6   GBC  0.821568\n",
              "8    AB  0.811500\n",
              "7    BC  0.811462\n",
              "5   RFC  0.810345\n",
              "3  LogR  0.789003\n",
              "4   DTC  0.775582\n",
              "1   KNC  0.693641\n",
              "2   MNB  0.688099\n",
              "0   SVC  0.674616"
            ],
            "text/html": [
              "\n",
              "  <div id=\"df-e5aa9cab-b3f1-4125-9644-d18a8be7ecad\" class=\"colab-df-container\">\n",
              "    <div>\n",
              "<style scoped>\n",
              "    .dataframe tbody tr th:only-of-type {\n",
              "        vertical-align: middle;\n",
              "    }\n",
              "\n",
              "    .dataframe tbody tr th {\n",
              "        vertical-align: top;\n",
              "    }\n",
              "\n",
              "    .dataframe thead th {\n",
              "        text-align: right;\n",
              "    }\n",
              "</style>\n",
              "<table border=\"1\" class=\"dataframe\">\n",
              "  <thead>\n",
              "    <tr style=\"text-align: right;\">\n",
              "      <th></th>\n",
              "      <th>Model</th>\n",
              "      <th>Score</th>\n",
              "    </tr>\n",
              "  </thead>\n",
              "  <tbody>\n",
              "    <tr>\n",
              "      <th>6</th>\n",
              "      <td>GBC</td>\n",
              "      <td>0.821568</td>\n",
              "    </tr>\n",
              "    <tr>\n",
              "      <th>8</th>\n",
              "      <td>AB</td>\n",
              "      <td>0.811500</td>\n",
              "    </tr>\n",
              "    <tr>\n",
              "      <th>7</th>\n",
              "      <td>BC</td>\n",
              "      <td>0.811462</td>\n",
              "    </tr>\n",
              "    <tr>\n",
              "      <th>5</th>\n",
              "      <td>RFC</td>\n",
              "      <td>0.810345</td>\n",
              "    </tr>\n",
              "    <tr>\n",
              "      <th>3</th>\n",
              "      <td>LogR</td>\n",
              "      <td>0.789003</td>\n",
              "    </tr>\n",
              "    <tr>\n",
              "      <th>4</th>\n",
              "      <td>DTC</td>\n",
              "      <td>0.775582</td>\n",
              "    </tr>\n",
              "    <tr>\n",
              "      <th>1</th>\n",
              "      <td>KNC</td>\n",
              "      <td>0.693641</td>\n",
              "    </tr>\n",
              "    <tr>\n",
              "      <th>2</th>\n",
              "      <td>MNB</td>\n",
              "      <td>0.688099</td>\n",
              "    </tr>\n",
              "    <tr>\n",
              "      <th>0</th>\n",
              "      <td>SVC</td>\n",
              "      <td>0.674616</td>\n",
              "    </tr>\n",
              "  </tbody>\n",
              "</table>\n",
              "</div>\n",
              "    <div class=\"colab-df-buttons\">\n",
              "\n",
              "  <div class=\"colab-df-container\">\n",
              "    <button class=\"colab-df-convert\" onclick=\"convertToInteractive('df-e5aa9cab-b3f1-4125-9644-d18a8be7ecad')\"\n",
              "            title=\"Convert this dataframe to an interactive table.\"\n",
              "            style=\"display:none;\">\n",
              "\n",
              "  <svg xmlns=\"http://www.w3.org/2000/svg\" height=\"24px\" viewBox=\"0 -960 960 960\">\n",
              "    <path d=\"M120-120v-720h720v720H120Zm60-500h600v-160H180v160Zm220 220h160v-160H400v160Zm0 220h160v-160H400v160ZM180-400h160v-160H180v160Zm440 0h160v-160H620v160ZM180-180h160v-160H180v160Zm440 0h160v-160H620v160Z\"/>\n",
              "  </svg>\n",
              "    </button>\n",
              "\n",
              "  <style>\n",
              "    .colab-df-container {\n",
              "      display:flex;\n",
              "      gap: 12px;\n",
              "    }\n",
              "\n",
              "    .colab-df-convert {\n",
              "      background-color: #E8F0FE;\n",
              "      border: none;\n",
              "      border-radius: 50%;\n",
              "      cursor: pointer;\n",
              "      display: none;\n",
              "      fill: #1967D2;\n",
              "      height: 32px;\n",
              "      padding: 0 0 0 0;\n",
              "      width: 32px;\n",
              "    }\n",
              "\n",
              "    .colab-df-convert:hover {\n",
              "      background-color: #E2EBFA;\n",
              "      box-shadow: 0px 1px 2px rgba(60, 64, 67, 0.3), 0px 1px 3px 1px rgba(60, 64, 67, 0.15);\n",
              "      fill: #174EA6;\n",
              "    }\n",
              "\n",
              "    .colab-df-buttons div {\n",
              "      margin-bottom: 4px;\n",
              "    }\n",
              "\n",
              "    [theme=dark] .colab-df-convert {\n",
              "      background-color: #3B4455;\n",
              "      fill: #D2E3FC;\n",
              "    }\n",
              "\n",
              "    [theme=dark] .colab-df-convert:hover {\n",
              "      background-color: #434B5C;\n",
              "      box-shadow: 0px 1px 3px 1px rgba(0, 0, 0, 0.15);\n",
              "      filter: drop-shadow(0px 1px 2px rgba(0, 0, 0, 0.3));\n",
              "      fill: #FFFFFF;\n",
              "    }\n",
              "  </style>\n",
              "\n",
              "    <script>\n",
              "      const buttonEl =\n",
              "        document.querySelector('#df-e5aa9cab-b3f1-4125-9644-d18a8be7ecad button.colab-df-convert');\n",
              "      buttonEl.style.display =\n",
              "        google.colab.kernel.accessAllowed ? 'block' : 'none';\n",
              "\n",
              "      async function convertToInteractive(key) {\n",
              "        const element = document.querySelector('#df-e5aa9cab-b3f1-4125-9644-d18a8be7ecad');\n",
              "        const dataTable =\n",
              "          await google.colab.kernel.invokeFunction('convertToInteractive',\n",
              "                                                    [key], {});\n",
              "        if (!dataTable) return;\n",
              "\n",
              "        const docLinkHtml = 'Like what you see? Visit the ' +\n",
              "          '<a target=\"_blank\" href=https://colab.research.google.com/notebooks/data_table.ipynb>data table notebook</a>'\n",
              "          + ' to learn more about interactive tables.';\n",
              "        element.innerHTML = '';\n",
              "        dataTable['output_type'] = 'display_data';\n",
              "        await google.colab.output.renderOutput(dataTable, element);\n",
              "        const docLink = document.createElement('div');\n",
              "        docLink.innerHTML = docLinkHtml;\n",
              "        element.appendChild(docLink);\n",
              "      }\n",
              "    </script>\n",
              "  </div>\n",
              "\n",
              "\n",
              "<div id=\"df-5c951b78-ad48-4944-b0ea-031269271ad1\">\n",
              "  <button class=\"colab-df-quickchart\" onclick=\"quickchart('df-5c951b78-ad48-4944-b0ea-031269271ad1')\"\n",
              "            title=\"Suggest charts\"\n",
              "            style=\"display:none;\">\n",
              "\n",
              "<svg xmlns=\"http://www.w3.org/2000/svg\" height=\"24px\"viewBox=\"0 0 24 24\"\n",
              "     width=\"24px\">\n",
              "    <g>\n",
              "        <path d=\"M19 3H5c-1.1 0-2 .9-2 2v14c0 1.1.9 2 2 2h14c1.1 0 2-.9 2-2V5c0-1.1-.9-2-2-2zM9 17H7v-7h2v7zm4 0h-2V7h2v10zm4 0h-2v-4h2v4z\"/>\n",
              "    </g>\n",
              "</svg>\n",
              "  </button>\n",
              "\n",
              "<style>\n",
              "  .colab-df-quickchart {\n",
              "      --bg-color: #E8F0FE;\n",
              "      --fill-color: #1967D2;\n",
              "      --hover-bg-color: #E2EBFA;\n",
              "      --hover-fill-color: #174EA6;\n",
              "      --disabled-fill-color: #AAA;\n",
              "      --disabled-bg-color: #DDD;\n",
              "  }\n",
              "\n",
              "  [theme=dark] .colab-df-quickchart {\n",
              "      --bg-color: #3B4455;\n",
              "      --fill-color: #D2E3FC;\n",
              "      --hover-bg-color: #434B5C;\n",
              "      --hover-fill-color: #FFFFFF;\n",
              "      --disabled-bg-color: #3B4455;\n",
              "      --disabled-fill-color: #666;\n",
              "  }\n",
              "\n",
              "  .colab-df-quickchart {\n",
              "    background-color: var(--bg-color);\n",
              "    border: none;\n",
              "    border-radius: 50%;\n",
              "    cursor: pointer;\n",
              "    display: none;\n",
              "    fill: var(--fill-color);\n",
              "    height: 32px;\n",
              "    padding: 0;\n",
              "    width: 32px;\n",
              "  }\n",
              "\n",
              "  .colab-df-quickchart:hover {\n",
              "    background-color: var(--hover-bg-color);\n",
              "    box-shadow: 0 1px 2px rgba(60, 64, 67, 0.3), 0 1px 3px 1px rgba(60, 64, 67, 0.15);\n",
              "    fill: var(--button-hover-fill-color);\n",
              "  }\n",
              "\n",
              "  .colab-df-quickchart-complete:disabled,\n",
              "  .colab-df-quickchart-complete:disabled:hover {\n",
              "    background-color: var(--disabled-bg-color);\n",
              "    fill: var(--disabled-fill-color);\n",
              "    box-shadow: none;\n",
              "  }\n",
              "\n",
              "  .colab-df-spinner {\n",
              "    border: 2px solid var(--fill-color);\n",
              "    border-color: transparent;\n",
              "    border-bottom-color: var(--fill-color);\n",
              "    animation:\n",
              "      spin 1s steps(1) infinite;\n",
              "  }\n",
              "\n",
              "  @keyframes spin {\n",
              "    0% {\n",
              "      border-color: transparent;\n",
              "      border-bottom-color: var(--fill-color);\n",
              "      border-left-color: var(--fill-color);\n",
              "    }\n",
              "    20% {\n",
              "      border-color: transparent;\n",
              "      border-left-color: var(--fill-color);\n",
              "      border-top-color: var(--fill-color);\n",
              "    }\n",
              "    30% {\n",
              "      border-color: transparent;\n",
              "      border-left-color: var(--fill-color);\n",
              "      border-top-color: var(--fill-color);\n",
              "      border-right-color: var(--fill-color);\n",
              "    }\n",
              "    40% {\n",
              "      border-color: transparent;\n",
              "      border-right-color: var(--fill-color);\n",
              "      border-top-color: var(--fill-color);\n",
              "    }\n",
              "    60% {\n",
              "      border-color: transparent;\n",
              "      border-right-color: var(--fill-color);\n",
              "    }\n",
              "    80% {\n",
              "      border-color: transparent;\n",
              "      border-right-color: var(--fill-color);\n",
              "      border-bottom-color: var(--fill-color);\n",
              "    }\n",
              "    90% {\n",
              "      border-color: transparent;\n",
              "      border-bottom-color: var(--fill-color);\n",
              "    }\n",
              "  }\n",
              "</style>\n",
              "\n",
              "  <script>\n",
              "    async function quickchart(key) {\n",
              "      const quickchartButtonEl =\n",
              "        document.querySelector('#' + key + ' button');\n",
              "      quickchartButtonEl.disabled = true;  // To prevent multiple clicks.\n",
              "      quickchartButtonEl.classList.add('colab-df-spinner');\n",
              "      try {\n",
              "        const charts = await google.colab.kernel.invokeFunction(\n",
              "            'suggestCharts', [key], {});\n",
              "      } catch (error) {\n",
              "        console.error('Error during call to suggestCharts:', error);\n",
              "      }\n",
              "      quickchartButtonEl.classList.remove('colab-df-spinner');\n",
              "      quickchartButtonEl.classList.add('colab-df-quickchart-complete');\n",
              "    }\n",
              "    (() => {\n",
              "      let quickchartButtonEl =\n",
              "        document.querySelector('#df-5c951b78-ad48-4944-b0ea-031269271ad1 button');\n",
              "      quickchartButtonEl.style.display =\n",
              "        google.colab.kernel.accessAllowed ? 'block' : 'none';\n",
              "    })();\n",
              "  </script>\n",
              "</div>\n",
              "    </div>\n",
              "  </div>\n"
            ],
            "application/vnd.google.colaboratory.intrinsic+json": {
              "type": "dataframe",
              "variable_name": "RS",
              "summary": "{\n  \"name\": \"RS\",\n  \"rows\": 9,\n  \"fields\": [\n    {\n      \"column\": \"Model\",\n      \"properties\": {\n        \"dtype\": \"string\",\n        \"num_unique_values\": 9,\n        \"samples\": [\n          \"MNB\",\n          \"AB\",\n          \"DTC\"\n        ],\n        \"semantic_type\": \"\",\n        \"description\": \"\"\n      }\n    },\n    {\n      \"column\": \"Score\",\n      \"properties\": {\n        \"dtype\": \"number\",\n        \"std\": 0.06065368340846647,\n        \"min\": 0.674615529470843,\n        \"max\": 0.821568012051974,\n        \"num_unique_values\": 9,\n        \"samples\": [\n          0.6880986755382589,\n          0.8114995919904588,\n          0.7755821982298663\n        ],\n        \"semantic_type\": \"\",\n        \"description\": \"\"\n      }\n    }\n  ]\n}"
            }
          },
          "metadata": {},
          "execution_count": 7
        }
      ],
      "source": [
        "# Finding best models with default parameters\n",
        "results = {}\n",
        "\n",
        "def train_model(clf, X, y):\n",
        "  scores = cross_val_score(clf, X, y, cv=5)\n",
        "  return scores\n",
        "\n",
        "for model_name, model in models.items():\n",
        "  score = train_model(model, X, y)\n",
        "  results[model_name] = score.mean()\n",
        "\n",
        "RS = pd.DataFrame(list(results.items()), columns=['Model', 'Score']).sort_values('Score', ascending = False)\n",
        "RS"
      ]
    },
    {
      "cell_type": "markdown",
      "metadata": {
        "id": "UbTJ1OuGG3EV"
      },
      "source": [
        "## 3.2 Training 3 best models"
      ]
    },
    {
      "cell_type": "code",
      "execution_count": 8,
      "metadata": {
        "id": "2iSFs0OXXajo"
      },
      "outputs": [],
      "source": [
        "# Choosing 3 best models and parameter for them\n",
        "models = {\n",
        "    'GBC': GradientBoostingClassifier(random_state = 37),\n",
        "    'AB': AdaBoostClassifier(random_state = 37),\n",
        "    'BC': BaggingClassifier(random_state = 37)\n",
        "    }\n",
        "\n",
        "params_grid = {\n",
        "    'GBC': {\n",
        "        'n_estimators': [75, 100, 125, 150, 175, 200],\n",
        "        'learning_rate': [0.01, 0.1, 0.2],\n",
        "        'max_depth': [1, 3, 5, 7, 9, 11]\n",
        "        },\n",
        "    'AB': {\n",
        "        'n_estimators': [50, 100, 150],\n",
        "        'learning_rate': [0.01, 0.1, 1],\n",
        "        },\n",
        "    'BC': {\n",
        "        'n_estimators': [10, 50, 100, 150, 200],\n",
        "        'max_samples': [0.25, 0.5, 0.75, 1.0],\n",
        "        'max_features': [0.25, 0.5, 0.75, 1.0]\n",
        "        }\n",
        "    }"
      ]
    },
    {
      "cell_type": "code",
      "execution_count": 9,
      "metadata": {
        "id": "4lrb984ZZVc3"
      },
      "outputs": [],
      "source": [
        "# Training models\n",
        "X_train, X_test, y_train, y_test = train_test_split(X, y, test_size=0.2, random_state=37)\n",
        "\n",
        "best_params = {}\n",
        "best_estimators = {}\n",
        "best_scores = {}\n",
        "accuracys = {}\n",
        "\n",
        "for model_name, model in models.items():\n",
        "  clf_grid = GridSearchCV(estimator=model, param_grid=params_grid[model_name], cv=5, n_jobs=-1)\n",
        "  clf_grid.fit(X_train, y_train)\n",
        "  best_estimator = clf_grid.best_estimator_\n",
        "  y_pred = best_estimator.predict(X_test)\n",
        "  accuracy = accuracy_score(y_test, y_pred)\n",
        "  best_params[model_name] = clf_grid.best_params_\n",
        "  accuracys[model_name] = accuracy"
      ]
    },
    {
      "cell_type": "code",
      "execution_count": 10,
      "metadata": {
        "id": "r-iRl8iEEOFW",
        "colab": {
          "base_uri": "https://localhost:8080/"
        },
        "outputId": "df1a58d7-7bc5-4351-896b-3d152b20d7d1"
      },
      "outputs": [
        {
          "output_type": "execute_result",
          "data": {
            "text/plain": [
              "('Params: ',\n",
              " {'GBC': {'learning_rate': 0.01, 'max_depth': 3, 'n_estimators': 175},\n",
              "  'AB': {'learning_rate': 0.1, 'n_estimators': 100},\n",
              "  'BC': {'max_features': 0.75, 'max_samples': 0.25, 'n_estimators': 50}})"
            ]
          },
          "metadata": {},
          "execution_count": 10
        }
      ],
      "source": [
        "'Params: ', best_params"
      ]
    },
    {
      "cell_type": "code",
      "execution_count": 11,
      "metadata": {
        "id": "arDAR0iwJUTQ",
        "colab": {
          "base_uri": "https://localhost:8080/"
        },
        "outputId": "6454808d-0529-44c0-9fb2-f8514e906bac"
      },
      "outputs": [
        {
          "output_type": "execute_result",
          "data": {
            "text/plain": [
              "('Accuracy: ',\n",
              " {'GBC': 0.8156424581005587,\n",
              "  'AB': 0.8156424581005587,\n",
              "  'BC': 0.8156424581005587})"
            ]
          },
          "metadata": {},
          "execution_count": 11
        }
      ],
      "source": [
        "'Accuracy: ', accuracys"
      ]
    },
    {
      "cell_type": "markdown",
      "source": [
        "# 4. Submission Prediction"
      ],
      "metadata": {
        "id": "rlAxc27ibYrs"
      }
    },
    {
      "cell_type": "code",
      "source": [
        "# So all three models gave the same result, so we choose any model\n",
        "clf_params = best_params['GBC']\n",
        "clf = GradientBoostingClassifier(**clf_params).fit(X, y)\n",
        "submisson_pred = clf.predict(test)\n",
        "\n",
        "df = pd.DataFrame({'PassengerId': test_ids.values,\n",
        "                   'Survived': submisson_pred})"
      ],
      "metadata": {
        "id": "M0TCMYQ1c7cT"
      },
      "execution_count": 12,
      "outputs": []
    },
    {
      "cell_type": "code",
      "source": [
        "# Creating submission CSV file\n",
        "df.to_csv('gender_submission.csv', index = False)"
      ],
      "metadata": {
        "id": "_gftxC20ha7v"
      },
      "execution_count": 13,
      "outputs": []
    }
  ],
  "metadata": {
    "colab": {
      "provenance": []
    },
    "kernelspec": {
      "display_name": "Python 3",
      "name": "python3"
    },
    "language_info": {
      "name": "python"
    }
  },
  "nbformat": 4,
  "nbformat_minor": 0
}